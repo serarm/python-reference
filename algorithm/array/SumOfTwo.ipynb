{
 "cells": [
  {
   "cell_type": "markdown",
   "metadata": {},
   "source": [
    "# Sum of Two Values"
   ]
  },
  {
   "cell_type": "markdown",
   "metadata": {},
   "source": [
    "## Given an array of integers and a value, determine if there are any two integers in the array which sum equal to the given value."
   ]
  },
  {
   "cell_type": "code",
   "execution_count": 5,
   "metadata": {},
   "outputs": [],
   "source": [
    "def find_sum_of_two(A, val):\n",
    "    \"\"\"\n",
    "        A:\n",
    "            Array of Integers\n",
    "        val:Integer\n",
    "            Value of sum two elements should be equal to\n",
    "        Returns:\n",
    "            Boolean incase two number with sum equal to val found\n",
    "   \"\"\"\n",
    "\n",
    "    setA=set()\n",
    "    for x in A:\n",
    "        if val-x in setA:\n",
    "            return True\n",
    "        setA.add(x)\n",
    "    return False"
   ]
  },
  {
   "cell_type": "code",
   "execution_count": 7,
   "metadata": {},
   "outputs": [
    {
     "name": "stdout",
     "output_type": "stream",
     "text": [
      "Passed all the testcases\n"
     ]
    }
   ],
   "source": [
    " def test_find_sum_of_two():\n",
    "        A=[2, 1, 8, 4, 7, 3]\n",
    "        assert find_sum_of_two(A,3),\"Failed for value 3\"\n",
    "        assert not find_sum_of_two(A,20),\"Failed for value 20\"\n",
    "        assert not find_sum_of_two(A,1),\"Failed for value 1\"\n",
    "        assert not find_sum_of_two(A,2),\"Failed for value 2\"\n",
    "        assert find_sum_of_two(A,7),\"Failed for value 7\"\n",
    "        print(\"Passed all the testcases\")\n",
    "\n",
    "test_find_sum_of_two()              \n"
   ]
  },
  {
   "cell_type": "markdown",
   "metadata": {},
   "source": [
    "**Above solution has time complexity O(n) and space complexity of O(n) **"
   ]
  },
  {
   "cell_type": "code",
   "execution_count": null,
   "metadata": {},
   "outputs": [],
   "source": []
  }
 ],
 "metadata": {
  "kernelspec": {
   "display_name": "Python [default]",
   "language": "python",
   "name": "python3"
  },
  "language_info": {
   "codemirror_mode": {
    "name": "ipython",
    "version": 3
   },
   "file_extension": ".py",
   "mimetype": "text/x-python",
   "name": "python",
   "nbconvert_exporter": "python",
   "pygments_lexer": "ipython3",
   "version": "3.5.5"
  }
 },
 "nbformat": 4,
 "nbformat_minor": 2
}
