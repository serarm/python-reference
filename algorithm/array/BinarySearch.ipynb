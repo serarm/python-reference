{
 "cells": [
  {
   "cell_type": "markdown",
   "metadata": {},
   "source": [
    "# Binary Search"
   ]
  },
  {
   "cell_type": "markdown",
   "metadata": {},
   "source": [
    "## Given a sorted array of integers, return the index of the given key. Return -1 if not found."
   ]
  },
  {
   "cell_type": "code",
   "execution_count": 1,
   "metadata": {},
   "outputs": [],
   "source": [
    "def binary_search_iter(a, key):\n",
    "  left,right=0,len(a)\n",
    "  while left<=right:\n",
    "    mid=(left+right)//2\n",
    "    if a[mid]==key:\n",
    "      return a[mid]\n",
    "    elif key<a[mid]:\n",
    "      right=mid-1\n",
    "    else:\n",
    "      left=mid+1\n",
    "        \n",
    "  return -1"
   ]
  },
  {
   "cell_type": "code",
   "execution_count": 2,
   "metadata": {},
   "outputs": [
    {
     "data": {
      "text/plain": [
       "6"
      ]
     },
     "execution_count": 2,
     "metadata": {},
     "output_type": "execute_result"
    }
   ],
   "source": [
    "binary_search_iter([2, 3, 4, 5, 6, 7, 9, 10],6)"
   ]
  },
  {
   "cell_type": "code",
   "execution_count": 3,
   "metadata": {},
   "outputs": [
    {
     "name": "stdout",
     "output_type": "stream",
     "text": [
      "All testcases passed\n"
     ]
    }
   ],
   "source": [
    "def test_binary_search():\n",
    "    assert binary_search_iter([2, 3, 4, 5, 6, 7, 9, 10],6)==6,\"List with odd number failed\"\n",
    "    assert binary_search_iter([2, 3, 4, 5, 6, 7, 9, 10],-1)==-1,\"Negative testcase failed\"\n",
    "    assert binary_search_iter([2, 3, 4, 5, 6, 7, 9, 10],2)==2,\"List with even number failed\"\n",
    "    assert binary_search_iter([2],2)==2,\"List with 1 element failed\"\n",
    "    print(\"All testcases passed\")\n",
    "test_binary_search()"
   ]
  },
  {
   "cell_type": "code",
   "execution_count": 4,
   "metadata": {},
   "outputs": [],
   "source": [
    "def binary_search_iter(a, key):\n",
    "  left,right=0,len(a)\n",
    "  while left<=right:\n",
    "    mid=(left+right)//2\n",
    "    if a[mid]==key:\n",
    "      return a[mid]\n",
    "    elif key<a[mid]:\n",
    "      right=mid-1\n",
    "    else:\n",
    "      left=mid+1\n",
    "        \n",
    "  return -1"
   ]
  }
 ],
 "metadata": {
  "kernelspec": {
   "display_name": "Python [default]",
   "language": "python",
   "name": "python3"
  },
  "language_info": {
   "codemirror_mode": {
    "name": "ipython",
    "version": 3
   },
   "file_extension": ".py",
   "mimetype": "text/x-python",
   "name": "python",
   "nbconvert_exporter": "python",
   "pygments_lexer": "ipython3",
   "version": "3.8.8"
  }
 },
 "nbformat": 4,
 "nbformat_minor": 2
}
