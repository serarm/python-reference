{
 "cells": [
  {
   "cell_type": "markdown",
   "metadata": {},
   "source": [
    "# Given an array, find the contiguous subarray with the largest sum"
   ]
  },
  {
   "cell_type": "code",
   "execution_count": 1,
   "metadata": {},
   "outputs": [],
   "source": [
    "def find_max_sum_sub_array(A):\n",
    "    \"\"\"\n",
    "    Arg:\n",
    "    A:Array to find contiguos subarray\n",
    "    Returns:\n",
    "    sum of maximum subarray\n",
    "    \"\"\"\n",
    "    max_so_far,global_max=A[0],A[0]\n",
    "    for a in A[1:]:\n",
    "        #If max_so_far is less than 0 the new max_so_far will be \n",
    "        if max_so_far<0:\n",
    "            max_so_far=a\n",
    "        else:\n",
    "            max_so_far+=a\n",
    "        if max_so_far>global_max:\n",
    "            global_max=max_so_far\n",
    "    return global_max  "
   ]
  },
  {
   "cell_type": "markdown",
   "metadata": {},
   "source": [
    "## Implements Kadane's algorithm having time complexity as O(n) and space complexity as O(1)"
   ]
  },
  {
   "cell_type": "code",
   "execution_count": 2,
   "metadata": {},
   "outputs": [
    {
     "name": "stdout",
     "output_type": "stream",
     "text": [
      "All testcases passed\n"
     ]
    }
   ],
   "source": [
    "assert find_max_sum_sub_array([1, 10, -1, 11, 5, -30, -7, 20, 25, -35])==45,\"Passed mixed number  testcases \"\n",
    "assert find_max_sum_sub_array([-1, -10, -1, -11, -5, -30, -7, -20, -25, -35])==-1,\"Passed negative number test cases\"\n",
    "assert find_max_sum_sub_array([1, 2, 3, 4, 5, 6, 7])==28,\"Passed positive number testcases\"\n",
    "print(\"All testcases passed\")"
   ]
  }
 ],
 "metadata": {
  "kernelspec": {
   "display_name": "Python [default]",
   "language": "python",
   "name": "python3"
  },
  "language_info": {
   "codemirror_mode": {
    "name": "ipython",
    "version": 3
   },
   "file_extension": ".py",
   "mimetype": "text/x-python",
   "name": "python",
   "nbconvert_exporter": "python",
   "pygments_lexer": "ipython3",
   "version": "3.5.5"
  }
 },
 "nbformat": 4,
 "nbformat_minor": 2
}
