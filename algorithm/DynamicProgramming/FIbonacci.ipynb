{
 "cells": [
  {
   "cell_type": "markdown",
   "metadata": {},
   "source": [
    "# Find the nth fibonacci number."
   ]
  },
  {
   "cell_type": "code",
   "execution_count": 1,
   "metadata": {},
   "outputs": [],
   "source": [
    "def rfib(n):\n",
    "    \"\"\"\n",
    "    Recursive fibonacci number calculation\n",
    "    \"\"\"\n",
    "    if n==1 or n==0:\n",
    "        return n\n",
    "    return rfib(n-1)+rfib(n-2)"
   ]
  },
  {
   "cell_type": "code",
   "execution_count": 2,
   "metadata": {},
   "outputs": [],
   "source": [
    "def testfunction(funcname):\n",
    "    assert funcname(1)==1,\"Failed for value 1\"\n",
    "    assert funcname(0)==0,\"Failed for value 0\"\n",
    "    assert funcname(5)==5,\"Failed for value 5\"\n",
    "    assert funcname(9)==34,\"Failed for value 34\"\n",
    "    print(\"All testcases passed for func:{}\".format(funcname.__name__))"
   ]
  },
  {
   "cell_type": "code",
   "execution_count": 3,
   "metadata": {},
   "outputs": [
    {
     "name": "stdout",
     "output_type": "stream",
     "text": [
      "All testcases passed for func:rfib\n"
     ]
    }
   ],
   "source": [
    "##Test recursive fibonacci series it has O(N) sace complexity and O(2**N) time complexity\n",
    "testfunction(rfib)"
   ]
  },
  {
   "cell_type": "code",
   "execution_count": 4,
   "metadata": {},
   "outputs": [],
   "source": [
    "def itfib(n):\n",
    "    if n==1 or n==0:\n",
    "        return n\n",
    "    n_2=0\n",
    "    n_1=1\n",
    "    i=2\n",
    "    while i<=n:\n",
    "        res=n_2+n_1\n",
    "        n_2,n_1=n_1,res\n",
    "        i+=1\n",
    "    return res\n",
    "        "
   ]
  },
  {
   "cell_type": "code",
   "execution_count": 5,
   "metadata": {},
   "outputs": [
    {
     "name": "stdout",
     "output_type": "stream",
     "text": [
      "All testcases passed for func:itfib\n"
     ]
    }
   ],
   "source": [
    "##Test iterative or dynaic prgraminc function\n",
    "##This function has O(N) time compexity\n",
    "testfunction(itfib)\n"
   ]
  }
 ],
 "metadata": {
  "kernelspec": {
   "display_name": "Python [default]",
   "language": "python",
   "name": "python3"
  },
  "language_info": {
   "codemirror_mode": {
    "name": "ipython",
    "version": 3
   },
   "file_extension": ".py",
   "mimetype": "text/x-python",
   "name": "python",
   "nbconvert_exporter": "python",
   "pygments_lexer": "ipython3",
   "version": "3.5.5"
  }
 },
 "nbformat": 4,
 "nbformat_minor": 2
}
