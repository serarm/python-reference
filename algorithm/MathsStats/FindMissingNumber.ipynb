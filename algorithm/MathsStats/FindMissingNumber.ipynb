{
 "cells": [
  {
   "cell_type": "markdown",
   "metadata": {},
   "source": [
    "# Find Missing Number"
   ]
  },
  {
   "cell_type": "markdown",
   "metadata": {},
   "source": [
    "## Given an array of positive numbers from 1 to n, such that all numbers from 1 to n are present except one. Find the missing number."
   ]
  },
  {
   "cell_type": "code",
   "execution_count": 1,
   "metadata": {},
   "outputs": [],
   "source": [
    "def find_missing(input):\n",
    "  l=len(input)+1\n",
    "  sum_input=(l*(l+1))//2\n",
    "  return sum_input-sum(input)"
   ]
  },
  {
   "cell_type": "code",
   "execution_count": 2,
   "metadata": {},
   "outputs": [
    {
     "name": "stdout",
     "output_type": "stream",
     "text": [
      "Passed all testcases\n"
     ]
    }
   ],
   "source": [
    "def test_find_missing():\n",
    "    assert find_missing([1,3,4,5,6])==2,\"Failed for 2\"\n",
    "    assert find_missing([2,1,5,4,6,7])==3,\"Failed for 3\"\n",
    "    assert find_missing([2,3,4,7,6,8,1])==5,\"Failed for 5\"\n",
    "    assert find_missing([2])==1,\"Failed for 1 element \"\n",
    "    print(\"Passed all testcases\")\n",
    "test_find_missing()"
   ]
  },
  {
   "cell_type": "markdown",
   "metadata": {},
   "source": [
    "+ ** For above runtime complexity is O(n) (but we have used built in sum) **\n",
    "+ ** For above space complexity is O(1)**"
   ]
  },
  {
   "cell_type": "markdown",
   "metadata": {},
   "source": [
    "Brute force can be with two loops of O(n*n) and ext best woould be to sort the array O(nlog(n))"
   ]
  }
 ],
 "metadata": {
  "kernelspec": {
   "display_name": "Python [default]",
   "language": "python",
   "name": "python3"
  },
  "language_info": {
   "codemirror_mode": {
    "name": "ipython",
    "version": 3
   },
   "file_extension": ".py",
   "mimetype": "text/x-python",
   "name": "python",
   "nbconvert_exporter": "python",
   "pygments_lexer": "ipython3",
   "version": "3.5.5"
  }
 },
 "nbformat": 4,
 "nbformat_minor": 2
}
