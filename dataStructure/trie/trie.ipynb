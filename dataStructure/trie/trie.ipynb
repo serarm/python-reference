{
 "cells": [
  {
   "cell_type": "markdown",
   "metadata": {},
   "source": [
    "# What is Trie?"
   ]
  },
  {
   "cell_type": "markdown",
   "metadata": {},
   "source": [
    "“Trie” basically comes from the word “retrieval”, as the main purpose of using this structure is that it provides fast retrieval. Tries are mostly used for searching words in the dictionary, provide auto-suggestions in search engines, and for IP routing as well."
   ]
  },
  {
   "cell_type": "markdown",
   "metadata": {},
   "source": [
    "## Define TrieNode"
   ]
  },
  {
   "cell_type": "code",
   "execution_count": 6,
   "metadata": {},
   "outputs": [],
   "source": [
    "class TrieNode:\n",
    "    def __init__(self):\n",
    "        self.children=[None]*26\n",
    "        #Let's assume Trie is for english alphabet\n",
    "        #Intialise all children to none\n",
    "#         for i in range(26):\n",
    "#             self.children.append(None)\n",
    "        self.val=-1\n",
    "        self.flagEndWord=False\n",
    "    #Function to mark current node as leaf\n",
    "    def markAsLeaf(self,val):\n",
    "        self.val=val\n",
    "        self.flagEndWord=True\n",
    "    \n",
    "    #Function to unmark current node as leaf\n",
    "    def unmarkAsLeaf(self):\n",
    "        self.val=-1\n",
    "        self.flagEndWord=False\n",
    "    def isLeaf(self):\n",
    "        return self.flagEndWord"
   ]
  },
  {
   "cell_type": "markdown",
   "metadata": {},
   "source": [
    "## Implementing TRIE class"
   ]
  },
  {
   "cell_type": "markdown",
   "metadata": {},
   "source": [
    "In Tries, Insertion is a lengthy process. It depends on how lengthy the words are and how many words the Trie contains. \n",
    "In worst case scenario, a Trie takes O(N*M) time where M is the number of words present in Tries and N is the length of the longest word. \n",
    "Same goes for Searching and Deletion in Tries.\n",
    "You need to perform at least N lookups for all M words."
   ]
  },
  {
   "cell_type": "code",
   "execution_count": 2,
   "metadata": {},
   "outputs": [],
   "source": [
    "class Trie:\n",
    "    def __init__(self):\n",
    "        self.root = TrieNode() #Root node\n",
    "    \n",
    "      #Function to get the index of character 't'\n",
    "    def getIndex(self,t):\n",
    "        return ord(t) - ord('a')\n",
    "  \n",
    "      #Function to insert a key,value pair in the Trie\n",
    "    def insert(self,key,value):\n",
    "        #If Key is None return\n",
    "        \n",
    "        if key==None:\n",
    "            return\n",
    "        currentNode=self.root\n",
    "        for i in range(len(key)):\n",
    "            tempkey=key[i].lower()\n",
    "            index=self.getIndex(tempkey)\n",
    "            if currentNode.children[index]==None:\n",
    "                currentNode.children[index]=TrieNode()\n",
    "            currentNode=currentNode.children[index]\n",
    "        currentNode.markAsLeaf(value)\n",
    "        \n",
    "    \n",
    "      #Function to search a given key in Trie\n",
    "    def search(self,key):\n",
    "        if key==None:\n",
    "            return False\n",
    "        currentNode=self.root\n",
    "        for i in range(len(key)):\n",
    "            tempkey=key[i].lower()\n",
    "            index=self.getIndex(tempkey)\n",
    "            \n",
    "            if currentNode.children[index]==None:\n",
    "                return False\n",
    "            currentNode=currentNode.children[index]\n",
    "                  \n",
    "        return currentNode!=None and currentNode.isLeaf()\n",
    "  \n",
    "      #Function to delete given key from Trie\n",
    "    def delete(self,key):\n",
    "        if self.root== None or key==None:\n",
    "            print(\"Error condition :either key or Trie is Null\")\n",
    "        elif not self.search(key):\n",
    "            print(\"Key is not present\")\n",
    "        #Case 1 no childern or included word\n",
    "  "
   ]
  },
  {
   "cell_type": "code",
   "execution_count": 5,
   "metadata": {},
   "outputs": [
    {
     "name": "stdout",
     "output_type": "stream",
     "text": [
      "Keys to insert: \n",
      "['the', 'a', 'there', 'answer', 'any', 'by', 'bye', 'their', 'abc']\n",
      "the ---- Present in trie\n",
      "these ---- Not present in trie\n",
      "=======================================\n",
      "Checking again for key :these\n",
      "these ---- Present in trie\n",
      "=======================================\n",
      "abc ---- Present in trie\n",
      "be ---- Not present in trie\n",
      "=======================================\n",
      "Checking again for key :be\n",
      "be ---- Present in trie\n",
      "=======================================\n",
      "bygone ---- Not present in trie\n",
      "=======================================\n",
      "Checking again for key :bygone\n",
      "bygone ---- Present in trie\n",
      "=======================================\n"
     ]
    }
   ],
   "source": [
    "def main():\n",
    "    # Input keys (use only 'a' through 'z' and lower case)\n",
    "    keys = [\"the\", \"a\", \"there\", \"answer\", \"any\",\n",
    "                     \"by\", \"bye\", \"their\",\"abc\"]\n",
    "    output = [\"Not present in trie\", \"Present in trie\"]\n",
    "    search_keys=['the','these','abc','be','bygone']\n",
    "    \n",
    "    t = Trie()\n",
    "    print(\"Keys to insert: \")\n",
    "    print(keys)\n",
    "    \n",
    "    #Construct Trie\n",
    "    for i in range(len(keys)):\n",
    "        t.insert(keys[i], i)\n",
    "    for key in search_keys:\n",
    "        result= output[1] if t.search(key) else output[0]\n",
    "        print(\"{} ---- {}\".format(key,result))\n",
    "        if not t.search(key):\n",
    "            t.insert(key,1)\n",
    "            print(\"=======================================\")\n",
    "            print(\"Checking again for key :{}\".format(key))\n",
    "            result= output[1] if t.search(key) else output[0]\n",
    "            print(\"{} ---- {}\".format(key,result))\n",
    "            print(\"=======================================\")\n",
    "if __name__=='__main__':\n",
    "    main()"
   ]
  },
  {
   "cell_type": "code",
   "execution_count": null,
   "metadata": {},
   "outputs": [],
   "source": []
  }
 ],
 "metadata": {
  "kernelspec": {
   "display_name": "Python [default]",
   "language": "python",
   "name": "python3"
  },
  "language_info": {
   "codemirror_mode": {
    "name": "ipython",
    "version": 3
   },
   "file_extension": ".py",
   "mimetype": "text/x-python",
   "name": "python",
   "nbconvert_exporter": "python",
   "pygments_lexer": "ipython3",
   "version": "3.5.5"
  }
 },
 "nbformat": 4,
 "nbformat_minor": 2
}
