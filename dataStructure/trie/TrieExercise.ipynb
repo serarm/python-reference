{
 "cells": [
  {
   "cell_type": "code",
   "execution_count": 1,
   "metadata": {},
   "outputs": [],
   "source": [
    "from trie import TrieNode,Trie"
   ]
  },
  {
   "cell_type": "markdown",
   "metadata": {},
   "source": [
    "## Implement totalWords() function which will find the total number of words in Trie."
   ]
  },
  {
   "cell_type": "code",
   "execution_count": 2,
   "metadata": {},
   "outputs": [],
   "source": [
    "def totalWords(root):\n",
    "    \"\"\"\n",
    "    root(Type Trie): Trie\n",
    "    returns : int\n",
    "        Total number of words in the Trie\n",
    "    This is iterative implementation of totalWords\n",
    "    \"\"\"\n",
    "    \n",
    "    if root is None:\n",
    "        return 0\n",
    "    words=0\n",
    "    stack=[ i for i in root.children if i!=None ]\n",
    "    while len(stack)>0:\n",
    "        currNode=stack.pop()\n",
    "        if currNode is not None and currNode.isLeaf():\n",
    "            words+=1\n",
    "        for i in currNode.children:\n",
    "            if i!=None:\n",
    "                stack.append(i)\n",
    "    return words\n",
    "\n",
    "            "
   ]
  },
  {
   "cell_type": "code",
   "execution_count": 10,
   "metadata": {},
   "outputs": [],
   "source": [
    "def rtotalWords(root):\n",
    "    \"\"\"\n",
    "    root(Type Trie): Trie root node\n",
    "    returns : int\n",
    "        Total number of words in the Trie\n",
    "    This is recursive implementation of totalWords\n",
    "    \"\"\"\n",
    "    result=0\n",
    "    if root.isLeaf():\n",
    "        result+=1\n",
    "    for i in root.children:\n",
    "        if i!=None:\n",
    "            result+=rtotalWords(i)\n",
    "    return result\n",
    "        "
   ]
  },
  {
   "cell_type": "code",
   "execution_count": 12,
   "metadata": {},
   "outputs": [
    {
     "name": "stdout",
     "output_type": "stream",
     "text": [
      "Total words in Trie are:14\n",
      "Total words in recursively Trie are:14\n",
      "Total words in Trie are:16\n",
      "Total words in recursively Trie are:16\n"
     ]
    }
   ],
   "source": [
    "#Building Trie\n",
    "keys = [\"the\", \"a\", \"there\", \"answer\", \"any\",\n",
    "                     \"by\", \"bye\", \"their\",\"abc\",\"trie\",\"problem\",\"can\",\"be\",\"fun\"]\n",
    "t=Trie()\n",
    "for i,key in enumerate(keys):\n",
    "    t.insert(key,i+1)\n",
    "print(\"Total words in Trie are:{}\".format(totalWords(t.root)))\n",
    "print(\"Total words in recursively Trie are:{}\".format(rtotalWords(t.root)))\n",
    "##Adding two more words\n",
    "t.insert('one',1)\n",
    "t.insert('two',2)\n",
    "print(\"Total words in Trie are:{}\".format(totalWords(t.root)))\n",
    "print(\"Total words in recursively Trie are:{}\".format(rtotalWords(t.root)))\n",
    "    "
   ]
  },
  {
   "cell_type": "code",
   "execution_count": null,
   "metadata": {},
   "outputs": [],
   "source": []
  },
  {
   "cell_type": "code",
   "execution_count": null,
   "metadata": {},
   "outputs": [],
   "source": []
  }
 ],
 "metadata": {
  "kernelspec": {
   "display_name": "Python [default]",
   "language": "python",
   "name": "python3"
  },
  "language_info": {
   "codemirror_mode": {
    "name": "ipython",
    "version": 3
   },
   "file_extension": ".py",
   "mimetype": "text/x-python",
   "name": "python",
   "nbconvert_exporter": "python",
   "pygments_lexer": "ipython3",
   "version": "3.5.5"
  }
 },
 "nbformat": 4,
 "nbformat_minor": 2
}
