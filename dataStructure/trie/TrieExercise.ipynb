{
 "cells": [
  {
   "cell_type": "code",
   "execution_count": 1,
   "metadata": {},
   "outputs": [],
   "source": [
    "from trie import TrieNode,Trie"
   ]
  },
  {
   "cell_type": "code",
   "execution_count": 2,
   "metadata": {},
   "outputs": [],
   "source": [
    "def buildTrie(arr):\n",
    "    \"\"\"\n",
    "    arr :List of words to be inserted in to Trie\n",
    "    Returns: Trie data type\n",
    "    \"\"\"\n",
    "    t=Trie()\n",
    "    for index,arrEle in enumerate(arr):\n",
    "        t.insert(arrEle,index)\n",
    "    return t\n",
    "        "
   ]
  },
  {
   "cell_type": "markdown",
   "metadata": {},
   "source": [
    "## 1.  Implement totalWords() function which will find the total number of words in Trie."
   ]
  },
  {
   "cell_type": "code",
   "execution_count": 4,
   "metadata": {},
   "outputs": [],
   "source": [
    "def totalWords(root):\n",
    "    \"\"\"\n",
    "    root(Type Trie): Trie\n",
    "    returns : int\n",
    "        Total number of words in the Trie\n",
    "    This is iterative implementation of totalWords\n",
    "    \"\"\"\n",
    "    \n",
    "    if root is None:\n",
    "        return 0\n",
    "    words=0\n",
    "    stack=[ i for i in root.children if i!=None ]\n",
    "    while len(stack)>0:\n",
    "        currNode=stack.pop()\n",
    "        if currNode is not None and currNode.isLeaf():\n",
    "            words+=1\n",
    "        for i in currNode.children:\n",
    "            if i!=None:\n",
    "                stack.append(i)\n",
    "    return words\n",
    "\n",
    "            "
   ]
  },
  {
   "cell_type": "code",
   "execution_count": 5,
   "metadata": {},
   "outputs": [],
   "source": [
    "def rtotalWords(root):\n",
    "    \"\"\"\n",
    "    root(Type Trie): Trie root node\n",
    "    returns : int\n",
    "        Total number of words in the Trie\n",
    "    This is recursive implementation of totalWords\n",
    "    \"\"\"\n",
    "    result=0\n",
    "    if root.isLeaf():\n",
    "        result+=1\n",
    "    for i in root.children:\n",
    "        if i!=None:\n",
    "            result+=rtotalWords(i)\n",
    "    return result\n",
    "        "
   ]
  },
  {
   "cell_type": "code",
   "execution_count": 6,
   "metadata": {},
   "outputs": [
    {
     "name": "stdout",
     "output_type": "stream",
     "text": [
      "Total words in Trie are:14\n",
      "Total words in recursively Trie are:14\n",
      "Total words in Trie are:16\n",
      "Total words in recursively Trie are:16\n"
     ]
    }
   ],
   "source": [
    "#Building Trie\n",
    "keys = [\"the\", \"a\", \"there\", \"answer\", \"any\",\n",
    "                     \"by\", \"bye\", \"their\",\"abc\",\"trie\",\"problem\",\"can\",\"be\",\"fun\"]\n",
    "t=buildTrie(keys)\n",
    "print(\"Total words in Trie are:{}\".format(totalWords(t.root)))\n",
    "print(\"Total words in recursively Trie are:{}\".format(rtotalWords(t.root)))\n",
    "##Adding two more words\n",
    "t.insert('one',1)\n",
    "t.insert('two',2)\n",
    "print(\"Total words in Trie are:{}\".format(totalWords(t.root)))\n",
    "print(\"Total words in recursively Trie are:{}\".format(rtotalWords(t.root)))\n",
    "    "
   ]
  },
  {
   "cell_type": "markdown",
   "metadata": {},
   "source": [
    "## 2 : Find all words stored in Trie"
   ]
  },
  {
   "cell_type": "code",
   "execution_count": 15,
   "metadata": {},
   "outputs": [],
   "source": [
    "def findWordsHelper(root,result,currentword=\"\"):\n",
    "    \"\"\"\n",
    "    root:Root of Trie\n",
    "    result: List of words stored in Trie\n",
    "    currentWord: String traversed till now\n",
    "    Returns:\n",
    "    Recursive function which modify result array to store all\n",
    "    the words contained in Trie\n",
    "    \"\"\"\n",
    "    if root==None:\n",
    "        return\n",
    "    for index,child in enumerate(root.children):\n",
    "        if child!=None :\n",
    "            lcurrentword=\"\".join(currentword)+str(chr(index+ord('a')))\n",
    "            if child.isLeaf():\n",
    "                result.append(currentword+str(chr(index+ord('a'))))               \n",
    "            findWordsHelper(child,result,lcurrentword)\n",
    "def findWords(root):\n",
    "    \"\"\"\n",
    "    root:Root element of Trie\n",
    "    Returns:\n",
    "        List of elements\n",
    "    \"\"\"\n",
    "    result = []\n",
    "    #Write your code here\n",
    "    findWordsHelper(root,result)\n",
    "    return \",\".join(result)+\",\""
   ]
  },
  {
   "cell_type": "code",
   "execution_count": 18,
   "metadata": {},
   "outputs": [
    {
     "name": "stdout",
     "output_type": "stream",
     "text": [
      "a,abc,answer,any,be,by,bye,can,fun,one,problem,the,their,there,trie,two,\n"
     ]
    }
   ],
   "source": [
    "#Print all  elements in the Trie\n",
    "print(findWords(t.root))"
   ]
  },
  {
   "cell_type": "markdown",
   "metadata": {},
   "source": [
    "## 3 : Sort elements of an array using Trie"
   ]
  },
  {
   "cell_type": "code",
   "execution_count": 22,
   "metadata": {},
   "outputs": [],
   "source": [
    "def sortArray(arr):\n",
    "    \"\"\"\n",
    "    Return the sorted arr \n",
    "    \"\"\"\n",
    "    t=buildTrie(arr)\n",
    "    arr=[]\n",
    "    findWordsHelper(t.root,arr)\n",
    "    return arr"
   ]
  },
  {
   "cell_type": "code",
   "execution_count": 23,
   "metadata": {},
   "outputs": [
    {
     "name": "stdout",
     "output_type": "stream",
     "text": [
      "['is', 'sorting', 'test', 'this']\n"
     ]
    }
   ],
   "source": [
    "arr=['this','is','sorting','test']\n",
    "arr=sortArray(arr)\n",
    "print(arr)"
   ]
  },
  {
   "cell_type": "markdown",
   "metadata": {},
   "source": [
    "## 4:  Implement isFormationPossible() function which will find whether the given word can be formed by combining two words from dictionary.\n",
    "\n"
   ]
  },
  {
   "cell_type": "code",
   "execution_count": 24,
   "metadata": {},
   "outputs": [],
   "source": [
    "def isFormationPossible(dictw,word):\n",
    "    \"\"\"\n",
    "    dictw:List of words\n",
    "    word:Combination of word to be searched\n",
    "    Returns:\n",
    "    boolean:True if word can be formed using the two elements\n",
    "    else:False\n",
    "    \"\"\"\n",
    "    t=buildTrie(dictw)\n",
    "    currentNode=t.root\n",
    "    for index,w in enumerate(word.lower()):\n",
    "        index_w=ord(w)-ord('a')\n",
    "        currentNode=currentNode.children[index_w]\n",
    "        if currentNode==None:\n",
    "            return False\n",
    "        elif currentNode.isLeaf():\n",
    "            if t.search(word[index+1:]):\n",
    "                return True\n",
    "    return False"
   ]
  },
  {
   "cell_type": "code",
   "execution_count": 26,
   "metadata": {},
   "outputs": [
    {
     "name": "stdout",
     "output_type": "stream",
     "text": [
      "True\n",
      "False\n",
      "True\n",
      "False\n"
     ]
    }
   ],
   "source": [
    "#Returns True\n",
    "print(isFormationPossible(['the', 'hello', 'there', 'answer', 'any', 'educative', 'world', 'their', 'abc'],'helloworld'))\n",
    "#Returns False\n",
    "print(isFormationPossible(['the', 'hello', 'there', 'answer', 'any', 'educative', 'world', 'their', 'abc'],'educativeinc'))\n",
    "#Returns True\n",
    "print(isFormationPossible(['the', 'hello', 'there', 'answer', 'any', 'educative', 'world', 'their', 'abc'],'anyanswer'))\n",
    "#Returns False\n",
    "print(isFormationPossible(['the', 'hello', 'there', 'answer', 'any', 'educative', 'world', 'their', 'abc'],'the'))\n",
    "      "
   ]
  }
 ],
 "metadata": {
  "kernelspec": {
   "display_name": "Python [default]",
   "language": "python",
   "name": "python3"
  },
  "language_info": {
   "codemirror_mode": {
    "name": "ipython",
    "version": 3
   },
   "file_extension": ".py",
   "mimetype": "text/x-python",
   "name": "python",
   "nbconvert_exporter": "python",
   "pygments_lexer": "ipython3",
   "version": "3.5.5"
  }
 },
 "nbformat": 4,
 "nbformat_minor": 2
}
